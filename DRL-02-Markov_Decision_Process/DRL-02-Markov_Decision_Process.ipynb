{
 "cells": [
  {
   "cell_type": "markdown",
   "id": "55624986-f591-4081-bd64-a3140173770d",
   "metadata": {},
   "source": [
    "# Lab-02: Markov Decision Process"
   ]
  },
  {
   "cell_type": "markdown",
   "id": "642d3ba9-e5d8-4eca-8a68-e88c256d63b6",
   "metadata": {},
   "source": [
    "Reference:\n",
    "\n",
    "- [Model Based Reinforcement Learning: Policy Iteration, Value Iteration, and Dynamic Programming by Steve Brunton](https://www.youtube.com/watch?v=sJIFUTITfBc&list=PLMrJAkhIeNNQe1JXNvaFvURxGY4gE9k74&index=5)\n",
    "- [Reinforcement Learning: An Introduction by Richard S. Sutton and Andrew G. Barto](http://incompleteideas.net/book/RLbook2020.pdf)\n",
    "- [Deep Reinforcement Learning Lab by Alisa Kunapinun](https://github.com/Alisa-Kunapinun/Deep-Reinforcement-learning-lab/blob/main/02-Markov_decision_process/02-Markov_Decision_Process.ipynb)"
   ]
  },
  {
   "cell_type": "markdown",
   "id": "00b1bfb2-d0d9-4d5f-a4a6-04837a0a049d",
   "metadata": {},
   "source": [
    "## What is Markov decision process?\n",
    "Markov decision process (MDP) is a discrete-time stochastic control process.\n",
    "It provides a mathematical framework for modeling decision making in situations where outcomes are partly random and partly under the control of a decision maker.\n",
    "MDPs are useful for studying optimization problems solved via dynamic programming.\n",
    "They are used in many disciplines, including robotics, automatic control, economics and manufacturing.\n",
    "\n",
    "The MDP model is based on the idea of an environment that evolves as a Markov chain.\n",
    "\n",
    "<img src=\"img/notation_illustration.png\" title=\"Notation for RL\" style=\"width: 800px;\" />"
   ]
  },
  {
   "cell_type": "markdown",
   "id": "9ccd1be3-b6d7-4ac7-86ab-a343cae550b6",
   "metadata": {},
   "source": [
    "### Markov chain\n",
    "\n",
    "A Markov chain is a model of the dynamics of a discrete time system that obeys the (first order) **Markov property**, meaning that *the state ($s^{t+1}$) at time $t+1$ is conditionally given the state at time $t$, but it is independent of the state at times $0, \\ldots, t-1$*, i.e.,\n",
    "\n",
    "$$ p(s^{t+1} \\mid s^t, s^{t-1}, \\ldots, s^0) = p(s^{t+1} \\mid s^t). $$\n",
    "\n",
    "We might say that **the current state is all you need to know to predict the next state**.\n",
    "\n",
    "A Markov chain is defined by a set of possible states $S={s_0, s_1, \\ldots, s_n}$ and a transition matrix $T(s,s')$ containing the probabilities of state $s$ (current state) transitioning to state $s'$ (next state).\n",
    "\n",
    "Here is a visualization of a simple Markov chain:\n",
    "\n",
    "<img src=\"img/RL_markov.png\" title=\"Markov chain\" style=\"width: 600px;\" />\n",
    "\n",
    "You might be interested in [this Markov chain simulator](https://setosa.io/ev/markov-chains/) and the [full screen diagram](https://setosa.io/markov/index.html)."
   ]
  },
  {
   "cell_type": "markdown",
   "id": "c6b4d801-50ec-44eb-8d22-d2728bdde53d",
   "metadata": {},
   "source": [
    "### Creating a Markov chain\n",
    "\n",
    "Assume we have **three states** (**A**, **B**, **C**), the Markov chain is:\n",
    "\n",
    "<img src=\"img/MarkovChain.PNG\" title=\"Markov chain example\" style=\"width: 400px;\" />\n",
    "\n",
    "The transition matrix is:\n",
    "\n",
    "$$\n",
    "T =\n",
    "\\begin{bmatrix}\n",
    "0.3 & 0.5 & 0.2 \\\\ \n",
    "0.8 & 0.1 & 0.1 \\\\\n",
    "0.1 & 0.3 & 0.6\n",
    "\\end{bmatrix}\n",
    "$$\n",
    "\n",
    "Each row means current state, and each column means the next state to go. If you consider $0.5$ in the matrix (row 0, and column 1), you can say that \"you are currently being at state **A** and the probability of going to state **B** as the next state is 0.5\"."
   ]
  },
  {
   "cell_type": "markdown",
   "id": "cbcaa363-5918-42aa-ac4c-bca4904bda54",
   "metadata": {},
   "source": [
    "We can create the transitional matrix using PyTorch library. The implementation is below:"
   ]
  },
  {
   "cell_type": "code",
   "execution_count": 1,
   "id": "88055b9f-e3c4-4758-b79a-9ea852e3a8d5",
   "metadata": {},
   "outputs": [
    {
     "name": "stdout",
     "output_type": "stream",
     "text": [
      "tensor([[0.3000, 0.5000, 0.2000],\n",
      "        [0.8000, 0.1000, 0.1000],\n",
      "        [0.1000, 0.3000, 0.6000]])\n"
     ]
    }
   ],
   "source": [
    "import torch\n",
    "\n",
    "\n",
    "T = torch.tensor([[0.3, 0.5, 0.2],\n",
    "                  [0.8, 0.1, 0.1],\n",
    "                  [0.1, 0.3, 0.6]])\n",
    "\n",
    "# show the matrix\n",
    "print(T)"
   ]
  },
  {
   "cell_type": "markdown",
   "id": "0793de73-ee38-4123-9166-5b968587a615",
   "metadata": {},
   "source": [
    "#### Probability after k steps\n",
    "\n",
    "The probability after $k$ steps equation is:\n",
    "$$ T_k = T^k  (\\forall{k} > 0) $$\n",
    "\n",
    "Thus, if we want to find the T state at step 2, 5, 10, 20, we can do as:"
   ]
  },
  {
   "cell_type": "code",
   "execution_count": 2,
   "id": "a992ffb1-f0b7-4d22-a27b-7f45535c0dcd",
   "metadata": {},
   "outputs": [
    {
     "name": "stdout",
     "output_type": "stream",
     "text": [
      "state transition at k=2: tensor([[0.5100, 0.2600, 0.2300],\n",
      "        [0.3300, 0.4400, 0.2300],\n",
      "        [0.3300, 0.2600, 0.4100]])\n",
      "state transition at k=5: tensor([[0.3991, 0.3230, 0.2779],\n",
      "        [0.4153, 0.3100, 0.2746],\n",
      "        [0.3926, 0.3165, 0.2908]])\n",
      "state transition at k=10: tensor([[0.4026, 0.3170, 0.2804],\n",
      "        [0.4024, 0.3172, 0.2804],\n",
      "        [0.4024, 0.3170, 0.2806]])\n",
      "state transition at k=20: tensor([[0.4024, 0.3171, 0.2805],\n",
      "        [0.4024, 0.3171, 0.2805],\n",
      "        [0.4024, 0.3171, 0.2805]])\n"
     ]
    }
   ],
   "source": [
    "T_2 = torch.matrix_power(T,2)\n",
    "print('state transition at k=2:', T_2)\n",
    "T_5 = torch.matrix_power(T,5)\n",
    "print('state transition at k=5:', T_5)\n",
    "T_10 = torch.matrix_power(T,10)\n",
    "print('state transition at k=10:', T_10)\n",
    "T_20 = torch.matrix_power(T,20)\n",
    "print('state transition at k=20:', T_20)"
   ]
  },
  {
   "cell_type": "markdown",
   "id": "f0845ca9-ac1b-4c1a-bb40-d205aab857ac",
   "metadata": {},
   "source": [
    "The state transition after 10 to 20 steps are going to converge. This means that no matter at which current state is, it has the same transitional probability of 40.24%, 31.71%, and 28.05% that will end up at states A, B, and C respectively if you have a certain enough time of iterations."
   ]
  },
  {
   "cell_type": "markdown",
   "id": "a28658cb-6c2f-42ec-92c2-787b52015d0c",
   "metadata": {},
   "source": [
    "Assume we have an initial probability to be at each state:\n",
    "\n",
    "$$\n",
    "V=\n",
    "\\begin{bmatrix}\n",
    "0.2 & 0.5 & 0.3\n",
    "\\end{bmatrix}\n",
    "$$\n",
    "\n",
    "In this matrix, we can say that there is a higher chance to go to the state A than other two states."
   ]
  },
  {
   "cell_type": "code",
   "execution_count": 3,
   "id": "22c63915-0ed0-40e9-bc5d-5bb900323795",
   "metadata": {},
   "outputs": [
    {
     "name": "stdout",
     "output_type": "stream",
     "text": [
      "tensor([[0.2000, 0.5000, 0.3000]])\n"
     ]
    }
   ],
   "source": [
    "V_0 = torch.tensor([[0.2, 0.5, 0.3]]) # V_0 as the initial state\n",
    "\n",
    "print(V_0)"
   ]
  },
  {
   "cell_type": "markdown",
   "id": "5f1aaad6-0c7c-489d-9e46-8fd776662758",
   "metadata": {},
   "source": [
    "The probabilities of transitioning to all the states given the initial state can be conditional. Thus, to calculate the probability distributions after 1, 2, 5, 10 and 20 iterations will look like the following:"
   ]
  },
  {
   "cell_type": "code",
   "execution_count": 4,
   "id": "11915b4f-b8c8-47a5-84f1-547b37e2bb2d",
   "metadata": {},
   "outputs": [
    {
     "name": "stdout",
     "output_type": "stream",
     "text": [
      "Distribution of states after 1 step:\n",
      "tensor([[0.4900, 0.2400, 0.2700]])\n",
      "\n",
      "Distribution of states after 2 step:\n",
      "tensor([[0.3660, 0.3500, 0.2840]])\n",
      "\n",
      "Distribution of states after 5 step:\n",
      "tensor([[0.4053, 0.3146, 0.2801]])\n",
      "\n",
      "Distribution of states after 10 step:\n",
      "tensor([[0.4024, 0.3171, 0.2805]])\n",
      "\n",
      "Distribution of states after 20 step:\n",
      "tensor([[0.4024, 0.3171, 0.2805]])\n",
      "\n"
     ]
    }
   ],
   "source": [
    "V_1 = torch.mm(V_0, T)\n",
    "print(\"Distribution of states after 1 step:\\n{}\\n\".format(V_1))\n",
    "V_2 = torch.mm(V_0, T_2)\n",
    "print(\"Distribution of states after 2 step:\\n{}\\n\".format(V_2))\n",
    "V_5 = torch.mm(V_0, T_5)\n",
    "print(\"Distribution of states after 5 step:\\n{}\\n\".format(V_5))\n",
    "V_10 = torch.mm(V_0, T_10)\n",
    "print(\"Distribution of states after 10 step:\\n{}\\n\".format(V_10))\n",
    "V_20 = torch.mm(V_0, T_20)\n",
    "print(\"Distribution of states after 20 step:\\n{}\\n\".format(V_20))"
   ]
  },
  {
   "cell_type": "markdown",
   "id": "6d152186-38f7-4cfb-8ab8-6ad327b26430",
   "metadata": {},
   "source": [
    "We can see that, after 10 steps, the state distribution converges. The probability of being in A (40.24%), B (31.71%) and C (28.05%), and the probabilities remain unchange in the long run.\n",
    "\n",
    "Starting with $[0.2,0.5,0.3]$, the state distribution after ten iterations becomes $[0.4024, 0.3171, 0.2805]$."
   ]
  },
  {
   "cell_type": "markdown",
   "id": "309072f3-b23e-4f4a-841f-f654598db9bb",
   "metadata": {},
   "source": [
    "### Simple Markov Decision Process\n",
    "\n",
    "Markov Decision Process(MDP) is slightly different from a simple Markov chain because MDP has to consider agent's actions which affect to the system's dynamics.\n",
    "Thus, not only the probability of transition to the next state, but also the agent's actions need to be calculated. We assign $A$ as all possible actions and $a$ as the action which the agent takes where $a \\in A$.\n",
    "\n",
    "The transition probabilities become a **3D tensor** of size $|S|\\times |A|\\times |S|$\n",
    "mapping each state/action pair to a probability distribution over the states.\n",
    "\n",
    "Suppose we have **three states (s0, s1, s2) and two actions (a0, a1)** and that the state/action transition tensor is as follows:\n",
    "\n",
    "$$T=\n",
    "\\begin{cases}\n",
    " &\n",
    "\\begin{bmatrix}\n",
    "0.8 & 0.1 & 0.1 \\\\ \n",
    "0.1 & 0.6 & 0.3\n",
    "\\end{bmatrix} \\\\ \n",
    " & \n",
    "\\begin{bmatrix}\n",
    "0.7 & 0.2 & 0.1 \\\\ \n",
    "0.1 & 0.8 & 0.1\n",
    "\\end{bmatrix} \\\\  \n",
    " & \n",
    "\\begin{bmatrix}\n",
    "0.6 & 0.2 & 0.2 \\\\ \n",
    "0.1 & 0.4 & 0.5\n",
    "\\end{bmatrix}\n",
    "\\end{cases}\n",
    "$$\n",
    "\n",
    "The first matrix block is mean current state $s0$, second block is $s1$, and the third block is $s2$.\n",
    "\n",
    "Consider into the matrix block, the rows of matrix block mean actions (a0 is 1st row, and a1 is 2nd row). And the columns of matix block is the same as Markov Chain: next state $s'$"
   ]
  },
  {
   "cell_type": "code",
   "execution_count": 5,
   "id": "75284b03-a3e6-41fc-b510-4c21cac3d79e",
   "metadata": {},
   "outputs": [
    {
     "name": "stdout",
     "output_type": "stream",
     "text": [
      "tensor([[[0.8000, 0.1000, 0.1000],\n",
      "         [0.1000, 0.6000, 0.3000]],\n",
      "\n",
      "        [[0.7000, 0.2000, 0.1000],\n",
      "         [0.1000, 0.8000, 0.1000]],\n",
      "\n",
      "        [[0.6000, 0.2000, 0.2000],\n",
      "         [0.1000, 0.4000, 0.5000]]])\n"
     ]
    }
   ],
   "source": [
    "# State transition function\n",
    "T = torch.tensor([[[0.8, 0.1, 0.1],\n",
    "                   [0.1, 0.6, 0.3]],\n",
    "                  [[0.7, 0.2, 0.1],\n",
    "                   [0.1, 0.8, 0.1]],\n",
    "                  [[0.6, 0.2, 0.2],\n",
    "                   [0.1, 0.4, 0.5]]])\n",
    "\n",
    "# show the matrix\n",
    "print(T)"
   ]
  },
  {
   "cell_type": "markdown",
   "id": "12f8b7cb-f538-4551-b007-ed72490eb46f",
   "metadata": {},
   "source": [
    "Let's use our transition matrix for the following example:\n",
    "- our current state is at state 2, assume that the agent take action 0, what will be the probability of getting into state 0, 1 and 2 respectively. These probabilities should basically sum up to one."
   ]
  },
  {
   "cell_type": "code",
   "execution_count": 6,
   "id": "07fd4da0-692e-454f-8d93-422fb404b25f",
   "metadata": {},
   "outputs": [
    {
     "name": "stdout",
     "output_type": "stream",
     "text": [
      "tensor(0.6000)\n",
      "tensor(0.2000)\n",
      "tensor(0.2000)\n"
     ]
    }
   ],
   "source": [
    "print(T[2, 0, 0])\n",
    "print(T[2, 0, 1])\n",
    "print(T[2, 0, 2])"
   ]
  },
  {
   "cell_type": "markdown",
   "id": "92c4630a-19b1-467b-a318-1b9d3c77cb98",
   "metadata": {},
   "source": [
    "To complete our simple MDP, we need a *reward function* $R$ and a *discount factor* $\\gamma$.\n",
    "\n",
    "The **reward function $R$** is a set of rewards that depends on the states and the actions taken.\n",
    "\n",
    "The **discount factor $\\gamma$** is how important future rewards are to the current state. The discount factor is a value between 0 and 1. A reward $R$ that occurs $t$ steps in the future from the current state, is multiplied by $\\gamma^t$ to describe its importance to the current state. Thus, the current reward is $\\gamma^tR$, where $t$ is a time step.\n",
    "\n",
    "Suppose $R = [ -1, 0.1, 0.9 ]$ and $\\gamma = 0.5$. Let's define our MDP in Python with PyTorch tensors:"
   ]
  },
  {
   "cell_type": "code",
   "execution_count": 7,
   "id": "6942048b-a470-477f-9fd2-cd8aff84a7a0",
   "metadata": {},
   "outputs": [],
   "source": [
    "# Reward function\n",
    "R = torch.tensor([-1.,0.1,0.9])\n",
    "\n",
    "# Discount factor\n",
    "gamma = 0.5"
   ]
  },
  {
   "cell_type": "markdown",
   "id": "c79e1b09-7f5c-450b-997d-eb1a2a6fc4a3",
   "metadata": {},
   "source": [
    "### The Goal of the Reinforcement Learning\n",
    "\n",
    "Once the MDP is defined, the agent's goal is to **maximize the expected reward**.\n",
    "\n",
    "If we start in state $s^0$ and perform a series of actions $a^0, a^1, \\ldots a^{T-1}$ placing us in state $s^1, s^2, \\ldots s^T$, we obtain the total reward $R_F$\n",
    "\n",
    "$$R_F=\\sum_{t=0}^T \\gamma^{t} R(s^t)$$\n",
    "\n",
    "The agent's goal is to behave so as to maximize the expected total reward. To do so,\n",
    "it should come up with a policy $\\pi : S \\times A \\rightarrow \\mathbb{R}$ giving a probability distribution\n",
    "over actions that can be executed in each state, then when in state $s$, sample action $a$ according to that\n",
    "distribution $\\pi(s,\\cdot)$, and repeat.\n",
    "\n",
    "Now the agent's goal can be clearly specified as finding an optimal policy\n",
    "\n",
    "$$ \\pi^* = \\textrm{argmax}_\\pi \\mathbb{E}_{a^t \\sim \\pi(s^t), s^{t} \\sim T(s^{t-1},a^{t-1})}\\left[ \\sum_{t=0}^T \\gamma^{t} R(s^t) \\right]$$\n",
    "\n",
    "Under a particular policy $\\pi$, then, the *value* of state $s$ is the expected reward we obtain by following $\\pi$ from state $s$:\n",
    "\n",
    "$$ V^\\pi(s) = \\mathbb{E}_{a^t \\sim \\pi(s^t), s^{t} \\sim T(s^{t-1},a^{t-1}) \\mid s^0=s}\\left[ R(s) + \\sum_{t=1}^T \\gamma^{t} R(s^t) \\right]$$\n",
    "\n",
    "The value function clearly obeys the *Bellman equations*\n",
    "\n",
    "$$ V^\\pi(s) = R(s) + \\gamma \\sum_{s',a'} \\pi(s,a') T(s,a',s') V^\\pi(s'). $$ \n",
    "\n",
    "The easier version of the equation can be written as below.\n",
    "The value function at time t+1 is:\n",
    "\n",
    "$$V_{t+1}=R+\\gamma * T * V_t$$\n",
    "\n",
    "When the value converges, which mean $V_{t+1}=V_t$, so we can derive the value $V$ as:\n",
    "\n",
    "$$\n",
    "V=R+\\gamma * T * V \\\\\n",
    "V = (I-\\gamma * T)^{-1} * R.\n",
    "$$\n",
    "\n",
    "The function can be implemented as the following:"
   ]
  },
  {
   "cell_type": "code",
   "execution_count": 8,
   "id": "0474668c-6e8a-4629-9192-0548a029fb04",
   "metadata": {},
   "outputs": [],
   "source": [
    "def cal_value_matrix_inversion(gamma, trans_matrix, rewards):\n",
    "    inv = torch.inverse(torch.eye(rewards.shape[0]) - gamma * trans_matrix)\n",
    "    V = torch.mm(inv, rewards.reshape(-1, 1))\n",
    "    return V"
   ]
  },
  {
   "cell_type": "markdown",
   "id": "90eca54c-ef26-4988-bb8c-28ab7b8642c0",
   "metadata": {},
   "source": [
    "Asume that we select action $a_0$ in all curcumstances. We can find transition matrix that the agent takes action $a_0$."
   ]
  },
  {
   "cell_type": "code",
   "execution_count": 9,
   "id": "d78fa459-94f5-42fa-b5e0-fa9457e23337",
   "metadata": {},
   "outputs": [
    {
     "name": "stdout",
     "output_type": "stream",
     "text": [
      "tensor([[0.8000, 0.1000, 0.1000],\n",
      "        [0.7000, 0.2000, 0.1000],\n",
      "        [0.6000, 0.2000, 0.2000]])\n"
     ]
    }
   ],
   "source": [
    "action = 0\n",
    "trans_matrix = T[:, action]\n",
    "print(trans_matrix)"
   ]
  },
  {
   "cell_type": "markdown",
   "id": "65389382-c665-4ada-97fd-b43b23ef730f",
   "metadata": {},
   "source": [
    "Calculate value from the bellman equation above:"
   ]
  },
  {
   "cell_type": "code",
   "execution_count": 10,
   "id": "fe973e4a-31ec-4b97-98f5-4ed630ab62a8",
   "metadata": {},
   "outputs": [
    {
     "name": "stdout",
     "output_type": "stream",
     "text": [
      "The value function under the optimal policy is:\n",
      "tensor([[-1.6781],\n",
      "        [-0.5202],\n",
      "        [ 0.3828]])\n"
     ]
    }
   ],
   "source": [
    "V = cal_value_matrix_inversion(gamma, trans_matrix, R)\n",
    "print(\"The value function under the optimal policy is:\\n{}\".format(V))"
   ]
  },
  {
   "cell_type": "markdown",
   "id": "d29435c0-f761-40aa-b101-c2c4951840aa",
   "metadata": {},
   "source": [
    "### Lab exercise 1\n",
    "\n",
    "1. Try to use different $\\gamma$ values from 0 to 1 for 5 values. 0 means we only care about the immediate reward, and 1 means we do not care the reward\n",
    "2. Try to find the value $V$ in step $k=1,2,3,..,10$ with the action $a_0$ and random action. Show the output."
   ]
  },
  {
   "cell_type": "code",
   "execution_count": 11,
   "id": "a76c4832-cec2-4e8e-b26c-c83f0e751547",
   "metadata": {},
   "outputs": [],
   "source": [
    "# Your code here"
   ]
  },
  {
   "cell_type": "markdown",
   "id": "bdd9fefe-520a-41b3-84b4-a8b623ef4e35",
   "metadata": {},
   "source": [
    "### Policy evaluation\n",
    "\n",
    "To determine how good a particular policy is, we use policy evaluation.\n",
    "Policy evaluation is an iterative algorithm. It starts with arbitrary values for each state\n",
    "and then iteratively updates the values based on the Bellman equations until the values converge. Assume $\\pi$ is the value of a policy, the update equation is:\n",
    "\n",
    "$$ V^{\\pi}(s) = \\sum_a \\pi(s,a) \\left[ R(s,a) + \\gamma \\sum_{s'} T(s,a',s') V(s') \\right] $$ \n",
    "\n",
    "$\\pi(s,a)$: the probability of taking action $a$ in stat $s$ under policy $\\pi$\n",
    "$R(s,a)$: the reward received in state $s$ by taking action $a$\n",
    "\n",
    "You can see this algorithm's pseudocode in Sutton's book on page 75.\n",
    "\n",
    "<img src=\"img/policy_evaluation.png\" title=\"Policy Evaluation\" style=\"width: 700px;\" />"
   ]
  },
  {
   "cell_type": "code",
   "execution_count": 12,
   "id": "0b615dc7-6c13-493a-9994-a0c9f961fad2",
   "metadata": {},
   "outputs": [],
   "source": [
    "def policy_evaluation(policy, trans_matrix, rewards, gamma, threshold):\n",
    "    \"\"\"\n",
    "    Perform policy evaluation\n",
    "    @param policy: policy matrix containing actions and their \n",
    "                            probability in each state\n",
    "    @param trans_matrix: transformation matrix\n",
    "    @param rewards: rewards for each state\n",
    "    @param gamma: discount factor\n",
    "    @param threshold: the evaluation will stop once values \n",
    "                           for all states are less than the threshold\n",
    "    @return: values of the given policy for all possible states\n",
    "    \"\"\"\n",
    "    n_state = policy.shape[0]\n",
    "    V = torch.zeros(n_state)\n",
    "    V_his = [V]\n",
    "    i = 0\n",
    "    while True:\n",
    "        V_temp = torch.zeros(n_state)\n",
    "        i += 1\n",
    "        for state, actions in enumerate(policy):\n",
    "            for action, action_prob in enumerate(actions):\n",
    "                V_temp[state] += action_prob * (R[state] + gamma * torch.dot(trans_matrix[state, action], V))\n",
    "        max_delta = torch.max(torch.abs(V - V_temp))\n",
    "        V = V_temp.clone()\n",
    "        V_his.append(V)\n",
    "        if max_delta <= threshold:\n",
    "            break\n",
    "    return V, V_his"
   ]
  },
  {
   "cell_type": "markdown",
   "id": "4782f73c-6563-417a-83e2-76a0affa1236",
   "metadata": {},
   "source": [
    "Define the threshold used to determine when to stop the evaluation process and the optimal policy where action a0 is chosen under all circumstances:"
   ]
  },
  {
   "cell_type": "code",
   "execution_count": 13,
   "id": "ca178c78-aa55-4bfd-b60f-a49729389180",
   "metadata": {},
   "outputs": [],
   "source": [
    "threshold = 0.0001\n",
    "\n",
    "policy_optimal = torch.tensor([[1.0, 0.0],\n",
    "                               [1.0, 0.0],\n",
    "                               [1.0, 0.0]])"
   ]
  },
  {
   "cell_type": "markdown",
   "id": "875e5dec-51d3-443b-b118-8cfe7e562019",
   "metadata": {},
   "source": [
    "Using the policy_evaluation function to find the optimal policy:"
   ]
  },
  {
   "cell_type": "code",
   "execution_count": 14,
   "id": "5dbf720a-61d7-411a-b949-e0633ee87b84",
   "metadata": {},
   "outputs": [
    {
     "name": "stdout",
     "output_type": "stream",
     "text": [
      "The value function under the optimal policy is:\n",
      "tensor([-1.6780, -0.5201,  0.3829])\n"
     ]
    }
   ],
   "source": [
    "V, V_his = policy_evaluation(policy_optimal, T, R, gamma, threshold)\n",
    "\n",
    "print(\"The value function under the optimal policy is:\\n{}\".format(V))"
   ]
  },
  {
   "cell_type": "markdown",
   "id": "3086d2dc-cc1b-47b2-81f3-fe2c746aa325",
   "metadata": {},
   "source": [
    "Plot the resulting history of values:"
   ]
  },
  {
   "cell_type": "code",
   "execution_count": 15,
   "id": "4c56bea5-9a2b-42cd-817f-d550189ccea2",
   "metadata": {},
   "outputs": [],
   "source": [
    "import matplotlib.pyplot as plt\n",
    "\n",
    "def plot_history(V_history, gamma):\n",
    "    s = []\n",
    "    text = []\n",
    "    for i in range(len(V_history[0])):\n",
    "        s_x, = plt.plot([v[i] for v in V_history])\n",
    "        s.append(s_x)\n",
    "        text.append('State s' + str(i))\n",
    "\n",
    "    plt.title('Optimal policy with gamma = {}'.format(str(gamma)))\n",
    "    plt.xlabel('Iteration')\n",
    "    plt.ylabel('Policy values')\n",
    "    plt.legend(s, text, loc=\"upper left\")\n",
    "    \n",
    "    plt.show()"
   ]
  },
  {
   "cell_type": "code",
   "execution_count": 16,
   "id": "ec041565-3ae4-4b1c-b7b0-46ebfec81963",
   "metadata": {},
   "outputs": [
    {
     "data": {
      "image/png": "[encoded data removed]",
      "text/plain": [
       "<Figure size 640x480 with 1 Axes>"
      ]
     },
     "metadata": {},
     "output_type": "display_data"
    }
   ],
   "source": [
    "plot_history(V_his, gamma)"
   ]
  },
  {
   "cell_type": "markdown",
   "id": "0c9eaf45-6b74-4863-8077-acd49aa7d7a4",
   "metadata": {},
   "source": [
    "### Lab exercise 2\n",
    "\n",
    "1. Change discount factor to 0.1, 0.2, and 0.99 and plot the results."
   ]
  },
  {
   "cell_type": "code",
   "execution_count": 17,
   "id": "604496cb-7df2-4629-91af-5af2fd621882",
   "metadata": {},
   "outputs": [],
   "source": [
    "# Your code here"
   ]
  },
  {
   "cell_type": "markdown",
   "id": "274925ff-7988-4aa7-8253-cb645141ea3d",
   "metadata": {},
   "source": [
    "### Value Iteration\n",
    "\n",
    "The idea behind value iteration is quite similar to that of policy evaluation. It is also an iterative algorithm. It starts with arbitrary policy values and then iteratively updates the values based on the Bellman optimality equation until they converge. So in each iteration, instead of taking the expectation (average) of the values across all actions, it picks the action that achieves the maximal policy values:\n",
    "\n",
    "$$ V^*(s) = \\max_a \\left[ R(s,a) + \\gamma \\sum_{s'} T(s,a',s') V^*(s') \\right] $$ \n",
    "\n",
    "$V^*(s)$ denotes the optimal value, which is the value of the optimal policy\n",
    "\n",
    "Once the optimal values are computed, we obtain the optimal policy:\n",
    "\n",
    "$$ \\pi^*(s) = \\text{argmax}_a \\sum_{s'}T(s,a,s') \\left[ R(s,a) + \\gamma V^*(s') \\right] $$ \n",
    "\n",
    "<img src=\"img/value_iteration.png\" title=\"Value Iteration\" style=\"width: 700px;\" />"
   ]
  },
  {
   "cell_type": "markdown",
   "id": "53dda3c6-f091-43f0-a5a9-6dc17e162370",
   "metadata": {},
   "source": [
    "### Apply it to gym environment\n",
    "\n",
    "In this step, we try to use *FrozenLake* environment to see how to implement the value iteration.\n",
    "\n",
    "FrozenLake is a typical Gym environment with a discrete state space. It is about moving an agent from the starting location to the goal location in a grid world, and at the same time avoiding traps. Currently, We use four by four grid [Gymnasium Frozen Lake](https://gymnasium.farama.org/environments/toy_text/frozen_lake/)."
   ]
  },
  {
   "cell_type": "code",
   "execution_count": 18,
   "id": "0728944e-3b6c-4a68-b77d-afca87b57d6a",
   "metadata": {},
   "outputs": [],
   "source": [
    "### Uncomment if you are using Colab\n",
    "# from google.colab import drive\n",
    "# drive.mount('/content/drive')"
   ]
  },
  {
   "cell_type": "code",
   "execution_count": 19,
   "id": "1a2ad1ef-2f35-49da-b626-7b500c5c3e49",
   "metadata": {},
   "outputs": [
    {
     "name": "stdout",
     "output_type": "stream",
     "text": [
      "number of states: 16\n",
      "number of actions: 4\n"
     ]
    }
   ],
   "source": [
    "import gymnasium as gym\n",
    "from gymnasium.utils.save_video import save_video\n",
    "from gymnasium.envs.toy_text.frozen_lake import generate_random_map\n",
    "import torch\n",
    "\n",
    "\n",
    "env = gym.make('FrozenLake-v1', desc=None, map_name=\"4x4\", is_slippery=True, render_mode=\"ansi_list\")\n",
    "n_state = env.observation_space.n\n",
    "print(\"number of states:\", n_state)\n",
    "\n",
    "n_action = env.action_space.n\n",
    "print(\"number of actions:\", n_action)"
   ]
  },
  {
   "cell_type": "markdown",
   "id": "78f494e6-2ba5-4965-81f4-e6510eeb2cf5",
   "metadata": {},
   "source": [
    "Reset and render the environment. Because the graphical of the environment is **text** style and no image pop-up. We can use render() directly."
   ]
  },
  {
   "cell_type": "code",
   "execution_count": 20,
   "id": "df028db5-40aa-40a4-9e68-7bfab25c4b0f",
   "metadata": {},
   "outputs": [
    {
     "name": "stdout",
     "output_type": "stream",
     "text": [
      "state:  (0, {'prob': 1})\n"
     ]
    }
   ],
   "source": [
    "state = env.reset()\n",
    "# env.render()\n",
    "print(\"state: \", state)"
   ]
  },
  {
   "cell_type": "code",
   "execution_count": 21,
   "id": "4b4f8908-5984-4875-812c-4f94c1b78a95",
   "metadata": {},
   "outputs": [
    {
     "data": {
      "text/plain": [
       "['\\n\\x1b[41mS\\x1b[0mFFF\\nFHFH\\nFFFH\\nHFFG\\n',\n",
       " '  (Down)\\nS\\x1b[41mF\\x1b[0mFF\\nFHFH\\nFFFH\\nHFFG\\n']"
      ]
     },
     "execution_count": 21,
     "metadata": {},
     "output_type": "execute_result"
    }
   ],
   "source": [
    "left = 0\n",
    "down = 1\n",
    "right = 2\n",
    "up = 3\n",
    "new_state, reward, terminated, trancated, info = env.step(down)\n",
    "env.render()"
   ]
  },
  {
   "cell_type": "markdown",
   "id": "6ba23262-a160-4d17-bb9e-ad39fd2ac1c1",
   "metadata": {},
   "source": [
    "Check the output of environment class after take action. In the <code>info</code>, and <code>new_state</code>, it says that the agent lands in <code>new_state</code>, with probability 0.3333333333333333. The reward is 0 because the agent has not reached the goal and the episode is not done. You might see the agent landing in different state, or staying in state 0 because of the slippery surface."
   ]
  },
  {
   "cell_type": "code",
   "execution_count": 22,
   "id": "5dbe481d-9a21-41c4-99d9-0e4cc82676ba",
   "metadata": {},
   "outputs": [
    {
     "name": "stdout",
     "output_type": "stream",
     "text": [
      "state:  1\n",
      "reward:  0.0\n",
      "Finish?:  False\n",
      "information:  {'prob': 0.3333333333333333}\n"
     ]
    }
   ],
   "source": [
    "print(\"state: \", new_state)\n",
    "\n",
    "print(\"reward: \", reward)\n",
    "\n",
    "print(\"Finish?: \", terminated)\n",
    "\n",
    "print(\"information: \", info)"
   ]
  },
  {
   "cell_type": "markdown",
   "id": "181cebdb-28b2-4836-b40d-b6f7ed58590d",
   "metadata": {},
   "source": [
    "Define a function that simulates a FrozenLake episode given a policy and returns the total reward"
   ]
  },
  {
   "cell_type": "code",
   "execution_count": 23,
   "id": "7ba62b12-ea8e-4c09-99f2-68158ca7cf11",
   "metadata": {},
   "outputs": [],
   "source": [
    "def run_episode(env, policy, render=False):\n",
    "    state, info = env.reset()\n",
    "    # print(\"reset state: \", state)\n",
    "    if render:\n",
    "        env.render()\n",
    "    total_reward = 0\n",
    "    is_done = False\n",
    "    step = 1\n",
    "    while not is_done:\n",
    "        # print(\"policy: \", policy)\n",
    "        # print(\"state: \", state)\n",
    "        # print(\"policy state: \", policy[state])\n",
    "        action = int(policy[state].item())\n",
    "        state, reward, is_done, truncated, info = env.step(action)\n",
    "        if render:\n",
    "            print('step: ', step)\n",
    "            env.render()\n",
    "        total_reward += reward\n",
    "        step += 1\n",
    "        if is_done:\n",
    "            break\n",
    "    return total_reward"
   ]
  },
  {
   "cell_type": "raw",
   "id": "71948504-302c-4be7-b0a7-7f07c97a4565",
   "metadata": {},
   "source": [
    "Try to run 200 episodes with random policy, and see the results\n",
    "\n",
    "We randomly generated a policy that was composed of 16 actions for the 16 states. Keep in mind that in FrozenLake, the movement direction is only partially dependent on the chosen action. This increases the uncertainty of control."
   ]
  },
  {
   "cell_type": "code",
   "execution_count": 24,
   "id": "3f835e36-00fa-43aa-a057-3772e17dbf75",
   "metadata": {},
   "outputs": [
    {
     "name": "stdout",
     "output_type": "stream",
     "text": [
      "Average total reward under random policy: 0.005\n",
      "tensor([2, 3, 3, 1, 2, 0, 0, 2, 3, 3, 1, 1, 2, 1, 1, 2])\n"
     ]
    }
   ],
   "source": [
    "n_episode = 200\n",
    "total_rewards = []\n",
    "\n",
    "for episode in range(n_episode):\n",
    "    # Create random policy with integer value deal to number of actions with n_state size.\n",
    "    random_policy = torch.randint(high=n_action, size=(n_state,))\n",
    "    # run an episode\n",
    "    total_reward = run_episode(env, random_policy)\n",
    "    total_rewards.append(total_reward)\n",
    "    \n",
    "    if total_reward == 1:\n",
    "        best_policy = random_policy\n",
    "        break\n",
    "    \n",
    "print('Average total reward under random policy: {}'.format(sum(total_rewards) / n_episode))\n",
    "# see the best policy\n",
    "print(best_policy)"
   ]
  },
  {
   "cell_type": "code",
   "execution_count": 25,
   "id": "a8a80622-aea8-4fc5-8e23-4a19a26e544a",
   "metadata": {},
   "outputs": [
    {
     "name": "stdout",
     "output_type": "stream",
     "text": [
      "Average total reward under best policy: 0.01\n"
     ]
    }
   ],
   "source": [
    "total_rewards = []\n",
    "\n",
    "for episode in range(n_episode):# run an episode\n",
    "    total_reward = run_episode(env, best_policy)\n",
    "    total_rewards.append(total_reward)\n",
    "    \n",
    "print('Average total reward under best policy: {}'.format(sum(total_rewards) / n_episode))"
   ]
  },
  {
   "cell_type": "markdown",
   "id": "103074a2-c627-4d48-9bb1-2de4727632b9",
   "metadata": {},
   "source": [
    "### Solving FrozenLake with value iteration\n",
    "\n",
    "At above, we found that the best policy from random policy is not good enough, so let's implement value iteration."
   ]
  },
  {
   "cell_type": "markdown",
   "id": "2f7d138a-3336-4723-9dcb-0b5d4937b2ff",
   "metadata": {},
   "source": [
    "Set discount factor $\\gamma$ as 0.9 and convergence threshold 0.000001"
   ]
  },
  {
   "cell_type": "code",
   "execution_count": 26,
   "id": "0522074f-075f-4037-a3e7-695cd673da4d",
   "metadata": {},
   "outputs": [],
   "source": [
    "gamma = 0.9\n",
    "threshold = 0.000001"
   ]
  },
  {
   "cell_type": "markdown",
   "id": "73949dff-0405-4965-8b18-a094e6558bbf",
   "metadata": {},
   "source": [
    "Create value iteration function"
   ]
  },
  {
   "cell_type": "code",
   "execution_count": 27,
   "id": "e7a4ea24-4d03-476c-8774-2d9734157a39",
   "metadata": {},
   "outputs": [],
   "source": [
    "def value_iteration(env, gamma, threshold):\n",
    "    \"\"\"\n",
    "    Solve a given environment with value iteration algorithm\n",
    "    @param env: OpenAI Gym environment\n",
    "    @param gamma: discount factor\n",
    "    @param threshold: the evaluation will stop once values for \n",
    "                       all states are less than the threshold\n",
    "    @return: values of the optimal policy for the given \n",
    "              environment\n",
    "    \"\"\"\n",
    "    n_state = env.observation_space.n\n",
    "    n_action = env.action_space.n\n",
    "    V = torch.zeros(n_state)\n",
    "    while True:\n",
    "        V_temp = torch.empty(n_state)\n",
    "        for state in range(n_state):\n",
    "            v_actions = torch.zeros(n_action)\n",
    "            for action in range(n_action):\n",
    "                # calculate the optimal policy using probability in environment\n",
    "                for trans_prob, new_state, reward, _ in env.env.unwrapped.P[state][action]:\n",
    "                    v_actions[action] += trans_prob * (reward + gamma * V[new_state])\n",
    "            V_temp[state] = torch.max(v_actions)\n",
    "        max_delta = torch.max(torch.abs(V - V_temp))\n",
    "        V = V_temp.clone()\n",
    "        if max_delta <= threshold:\n",
    "            break\n",
    "    return V"
   ]
  },
  {
   "cell_type": "markdown",
   "id": "e809158f-114c-48e3-89d6-12a6cf58e64c",
   "metadata": {},
   "source": [
    "Find the optimal value using value iteration function"
   ]
  },
  {
   "cell_type": "code",
   "execution_count": 28,
   "id": "a7c961a6-ddfe-4f12-bc38-b914358b1718",
   "metadata": {},
   "outputs": [
    {
     "name": "stdout",
     "output_type": "stream",
     "text": [
      "Optimal values:\n",
      "tensor([0.0689, 0.0614, 0.0744, 0.0558, 0.0918, 0.0000, 0.1122, 0.0000, 0.1454,\n",
      "        0.2475, 0.2996, 0.0000, 0.0000, 0.3799, 0.6390, 0.0000])\n"
     ]
    }
   ],
   "source": [
    "V_optimal = value_iteration(env, gamma, threshold)\n",
    "\n",
    "print('Optimal values:\\n{}'.format(V_optimal))"
   ]
  },
  {
   "cell_type": "markdown",
   "id": "5e845214-d60a-4dfc-a689-514785ba5164",
   "metadata": {},
   "source": [
    "Create a function to extract from optimal value to be optimal policy."
   ]
  },
  {
   "cell_type": "code",
   "execution_count": 29,
   "id": "0d10dd1b-cc0b-4864-aaf7-ea9c0fae7eee",
   "metadata": {},
   "outputs": [],
   "source": [
    "def extract_optimal_policy(env, V_optimal, gamma):\n",
    "    \"\"\"\n",
    "    Obtain the optimal policy based on the optimal values\n",
    "    @param env: OpenAI Gym environment\n",
    "    @param V_optimal: optimal values\n",
    "    @param gamma: discount factor\n",
    "    @return: optimal policy\n",
    "    \"\"\"\n",
    "    n_state = env.observation_space.n\n",
    "    n_action = env.action_space.n\n",
    "    optimal_policy = torch.zeros(n_state)\n",
    "    for state in range(n_state):\n",
    "        v_actions = torch.zeros(n_action)\n",
    "        for action in range(n_action):\n",
    "            for trans_prob, new_state, reward, _ in env.env.unwrapped.P[state][action]:\n",
    "                v_actions[action] += trans_prob * (reward \n",
    "                           + gamma * V_optimal[new_state])\n",
    "        optimal_policy[state] = torch.argmax(v_actions)\n",
    "    return optimal_policy"
   ]
  },
  {
   "cell_type": "code",
   "execution_count": 30,
   "id": "f13c3a1b-3604-4321-be08-e7bbd8a53461",
   "metadata": {},
   "outputs": [
    {
     "name": "stdout",
     "output_type": "stream",
     "text": [
      "Optimal policy:\n",
      "tensor([0., 3., 0., 3., 0., 0., 0., 0., 3., 1., 0., 0., 0., 2., 1., 0.])\n"
     ]
    }
   ],
   "source": [
    "optimal_policy = extract_optimal_policy(env, V_optimal, gamma)\n",
    "\n",
    "print('Optimal policy:\\n{}'.format(optimal_policy))"
   ]
  },
  {
   "cell_type": "markdown",
   "id": "687e37ac-fd69-4af9-a212-4a0f75951e16",
   "metadata": {},
   "source": [
    "Try to run 200 episodes again using the <code>optimal_policy</code>, to check that the winning rate is good or not."
   ]
  },
  {
   "cell_type": "code",
   "execution_count": 31,
   "id": "1335287e-adae-4fa8-968e-2e1ab9826ab0",
   "metadata": {},
   "outputs": [
    {
     "name": "stdout",
     "output_type": "stream",
     "text": [
      "Average total reward under optimal policy: 0.795\n"
     ]
    }
   ],
   "source": [
    "total_rewards = []\n",
    "\n",
    "for episode in range(n_episode):# run an episode\n",
    "    total_reward = run_episode(env, optimal_policy)\n",
    "    total_rewards.append(total_reward)\n",
    "    \n",
    "print('Average total reward under optimal policy: {}'.format(sum(total_rewards) / n_episode))"
   ]
  },
  {
   "cell_type": "markdown",
   "id": "f987947e-e51d-481d-ab0d-a517639e362c",
   "metadata": {},
   "source": [
    "You can see that the optimal_policy accuracy is better than the random_policy."
   ]
  },
  {
   "cell_type": "markdown",
   "id": "1789aab5-81f4-403e-b3d8-58fc47601eb0",
   "metadata": {},
   "source": [
    "### Lab exercise 3\n",
    "\n",
    "1. Change discount factor to at least 20 different values and plot the average rewards (y-axis) via the discount factor (x-axis)."
   ]
  },
  {
   "cell_type": "markdown",
   "id": "64c7b147-ffeb-421b-9db2-64d4f509cddf",
   "metadata": {},
   "source": [
    "### Implement with policy iteration\n",
    "\n",
    "A policy iteration algorithm can be subdivided into two components: policy evaluation and policy improvement. It starts with an arbitrary policy. And in each iteration, it first computes the policy values given the latest policy, based on the Bellman expectation equation; it then extracts an improved policy out of the resulting policy values, based on the Bellman optimality equation. It iteratively evaluates the policy and generates an improved version until the policy doesn't change any more.\n",
    "\n",
    "$$ V(s) = \\sum_{s'} T(s,a',s') \\left[ R(s,a,s') + \\gamma V(s') \\right] $$ \n",
    "\n",
    "Once the optimal values are computed, we obtain the optimal policy:\n",
    "\n",
    "$$ \\pi(s) = \\text{argmax}_a \\sum_{s'}T(s,a,s') \\left[ R(s,a,s') + \\gamma V(s') \\right] $$ \n",
    "\n",
    "<img src=\"img/policy_iteration.png\" title=\"Policy Iteration\" style=\"width: 700px;\" />"
   ]
  },
  {
   "cell_type": "markdown",
   "id": "611deaad-dbb7-4582-90f8-0e4e2a2c3147",
   "metadata": {},
   "source": [
    "Modify a policy_evaluation function to support in gym library."
   ]
  },
  {
   "cell_type": "code",
   "execution_count": 32,
   "id": "8870be6d-ff8d-413c-b268-00802710d00b",
   "metadata": {},
   "outputs": [],
   "source": [
    "def policy_evaluation(env, policy, gamma, threshold):\n",
    "    \"\"\"\n",
    "    Perform policy evaluation\n",
    "    @param env: OpenAI Gym environment\n",
    "    @param policy: policy matrix containing actions and \n",
    "                            their probability in each state\n",
    "    @param gamma: discount factor\n",
    "    @param threshold: the evaluation will stop once values for all states are less than the threshold\n",
    "    @return: values of the given policy\n",
    "    \"\"\"\n",
    "    n_state = policy.shape[0]\n",
    "    V = torch.zeros(n_state)\n",
    "    while True:\n",
    "        V_temp = torch.zeros(n_state)\n",
    "        for state in range(n_state):\n",
    "            action = policy[state].item()\n",
    "            for trans_prob, new_state, reward, _ in env.env.unwrapped.P[state][action]:\n",
    "                V_temp[state] += trans_prob * (reward + gamma * V[new_state])\n",
    "        max_delta = torch.max(torch.abs(V - V_temp))\n",
    "        V = V_temp.clone()\n",
    "        if max_delta <= threshold:\n",
    "           break\n",
    "    return V"
   ]
  },
  {
   "cell_type": "markdown",
   "id": "0d9a2a3c-fed4-47e3-b2ec-46c7b5a7fb1b",
   "metadata": {},
   "source": [
    "Create a policy_improvement function:"
   ]
  },
  {
   "cell_type": "code",
   "execution_count": 33,
   "id": "876a3973-6ed0-48dc-841f-99dec4270f49",
   "metadata": {},
   "outputs": [],
   "source": [
    "def policy_improvement(env, V, gamma):\n",
    "    \"\"\"\n",
    "    Obtain an improved policy based on the values\n",
    "    @param env: OpenAI Gym environment\n",
    "    @param V: policy values\n",
    "    @param gamma: discount factor\n",
    "    @return: the policy\n",
    "    \"\"\"\n",
    "    n_state = env.observation_space.n\n",
    "    n_action = env.action_space.n\n",
    "    policy = torch.zeros(n_state)\n",
    "    for state in range(n_state):\n",
    "        v_actions = torch.zeros(n_action)\n",
    "        for action in range(n_action):\n",
    "            for trans_prob, new_state, reward, _ in env.env.unwrapped.P[state][action]:\n",
    "                v_actions[action] += trans_prob * (reward + gamma * V[new_state])\n",
    "        policy[state] = torch.argmax(v_actions)\n",
    "    return policy"
   ]
  },
  {
   "cell_type": "markdown",
   "id": "9cd80c17-b83f-4a83-be8d-7fcbb5f74449",
   "metadata": {},
   "source": [
    "Create policy_iteration function. The function combines policy_evaluation and policy_improvement."
   ]
  },
  {
   "cell_type": "code",
   "execution_count": 34,
   "id": "34ad012b-2b2f-4449-b602-382b43c4909d",
   "metadata": {},
   "outputs": [],
   "source": [
    "def policy_iteration(env, gamma, threshold):\n",
    "    \"\"\"\n",
    "    Solve a given environment with policy iteration algorithm\n",
    "    @param env: OpenAI Gym environment\n",
    "    @param gamma: discount factor\n",
    "    @param threshold: the evaluation will stop once values \n",
    "                    for all states are less than the threshold\n",
    "    @return: optimal values and the optimal policy for the given \n",
    "              environment\n",
    "    \"\"\"\n",
    "    n_state = env.observation_space.n\n",
    "    n_action = env.action_space.n\n",
    "    policy = torch.randint(high=n_action, size=(n_state,)).float()\n",
    "    while True:\n",
    "        V = policy_evaluation(env, policy, gamma, threshold)\n",
    "        policy_improved = policy_improvement(env, V, gamma)\n",
    "        if torch.equal(policy_improved, policy):\n",
    "            return V, policy_improved\n",
    "        policy = policy_improved"
   ]
  },
  {
   "cell_type": "markdown",
   "id": "5fcf3a87-0a0f-427b-9884-16692cf820e9",
   "metadata": {},
   "source": [
    "Execute the implementation"
   ]
  },
  {
   "cell_type": "code",
   "execution_count": 35,
   "id": "8bc055ce-940c-4592-b406-c20fb64fc977",
   "metadata": {},
   "outputs": [
    {
     "name": "stdout",
     "output_type": "stream",
     "text": [
      "Optimal values:\n",
      "tensor([0.0689, 0.0614, 0.0744, 0.0558, 0.0918, 0.0000, 0.1122, 0.0000, 0.1454,\n",
      "        0.2475, 0.2996, 0.0000, 0.0000, 0.3799, 0.6390, 0.0000])\n",
      "Optimal policy:\n",
      "tensor([0., 3., 0., 3., 0., 0., 0., 0., 3., 1., 0., 0., 0., 2., 1., 0.])\n"
     ]
    }
   ],
   "source": [
    "V_optimal, optimal_policy = policy_iteration(env, gamma, threshold)\n",
    "\n",
    "print('Optimal values:\\n{}'.format(V_optimal))\n",
    "print('Optimal policy:\\n{}'.format(optimal_policy))"
   ]
  },
  {
   "cell_type": "markdown",
   "id": "9647d69c-882c-4e71-a29e-83300280164f",
   "metadata": {},
   "source": [
    "Try to run 200 episodes again using the <code>optimal_policy</code>, to check that the winning rate is good or not."
   ]
  },
  {
   "cell_type": "code",
   "execution_count": 36,
   "id": "f945d78d-d11f-4631-bc77-e99cc2dd0ee7",
   "metadata": {},
   "outputs": [
    {
     "name": "stdout",
     "output_type": "stream",
     "text": [
      "Average total reward under optimal policy: 0.815\n"
     ]
    }
   ],
   "source": [
    "total_rewards = []\n",
    "\n",
    "for episode in range(n_episode):# run an episode\n",
    "    total_reward = run_episode(env, optimal_policy)\n",
    "    total_rewards.append(total_reward)\n",
    "    \n",
    "print('Average total reward under optimal policy: {}'.format(sum(total_rewards) / n_episode))"
   ]
  },
  {
   "cell_type": "markdown",
   "id": "495e1aed-9d0e-4c8a-b3d6-6c6f5c1c6f84",
   "metadata": {},
   "source": [
    "### Lab exercise 4\n",
    "\n",
    "1. Change discount factor to at least 20 different data and plot the average reward (y-axis) via the discount factor (x-axis).\n",
    "2. See the policy evaluation, value iteration, and policy iteration, which one is better in terms of\n",
    " - Convergence speed\n",
    " - Accuracy"
   ]
  },
  {
   "cell_type": "code",
   "execution_count": null,
   "id": "d07989e5-b077-47bb-9187-b9e521a5b282",
   "metadata": {},
   "outputs": [],
   "source": []
  }
 ],
 "metadata": {
  "kernelspec": {
   "display_name": "Python 3 (ipykernel)",
   "language": "python",
   "name": "python3"
  },
  "language_info": {
   "codemirror_mode": {
    "name": "ipython",
    "version": 3
   },
   "file_extension": ".py",
   "mimetype": "text/x-python",
   "name": "python",
   "nbconvert_exporter": "python",
   "pygments_lexer": "ipython3",
   "version": "3.12.5"
  }
 },
 "nbformat": 4,
 "nbformat_minor": 5
}
